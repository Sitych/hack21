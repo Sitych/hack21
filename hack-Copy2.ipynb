{
 "cells": [
  {
   "cell_type": "code",
   "execution_count": 38,
   "id": "imposed-lobby",
   "metadata": {},
   "outputs": [],
   "source": [
    "import pandas as pd\n",
    "import numpy as np\n",
    "import matplotlib.pyplot as plt\n",
    "import shap\n",
    "import lightgbm"
   ]
  },
  {
   "cell_type": "code",
   "execution_count": 156,
   "id": "referenced-dispute",
   "metadata": {},
   "outputs": [],
   "source": [
    "aggregates = pd.read_csv(\"aggregates.csv\")\n",
    "transactions = pd.read_csv(\"transactions.csv\")"
   ]
  },
  {
   "cell_type": "code",
   "execution_count": 85,
   "id": "blocked-resource",
   "metadata": {},
   "outputs": [
    {
     "data": {
      "text/html": [
       "<div>\n",
       "<style scoped>\n",
       "    .dataframe tbody tr th:only-of-type {\n",
       "        vertical-align: middle;\n",
       "    }\n",
       "\n",
       "    .dataframe tbody tr th {\n",
       "        vertical-align: top;\n",
       "    }\n",
       "\n",
       "    .dataframe thead th {\n",
       "        text-align: right;\n",
       "    }\n",
       "</style>\n",
       "<table border=\"1\" class=\"dataframe\">\n",
       "  <thead>\n",
       "    <tr style=\"text-align: right;\">\n",
       "      <th></th>\n",
       "      <th>client_id</th>\n",
       "      <th>report_date</th>\n",
       "      <th>cnt_zp_1m</th>\n",
       "      <th>cnt_zp_3m</th>\n",
       "      <th>cnt_zp_6m</th>\n",
       "      <th>cnt_zp_12m</th>\n",
       "      <th>downlimit_count</th>\n",
       "      <th>uplimit_count</th>\n",
       "      <th>limit_exchange_count</th>\n",
       "      <th>cur_credit_limit</th>\n",
       "      <th>...</th>\n",
       "      <th>curdel_30plus_bki</th>\n",
       "      <th>curdel_60plus_bank</th>\n",
       "      <th>curdel_60plus_bki</th>\n",
       "      <th>curdel_tech_bank</th>\n",
       "      <th>curdel_tech_bki</th>\n",
       "      <th>bank_1_29_5y_debtor</th>\n",
       "      <th>bank_30_59_5y_debtor</th>\n",
       "      <th>bank_60_89_5y_debtor</th>\n",
       "      <th>bank_90_119_5y_debtor</th>\n",
       "      <th>bank_120plus_5y_debtor</th>\n",
       "    </tr>\n",
       "  </thead>\n",
       "  <tbody>\n",
       "    <tr>\n",
       "      <th>0</th>\n",
       "      <td>4268</td>\n",
       "      <td>2019-11-01 00:00:00</td>\n",
       "      <td>NaN</td>\n",
       "      <td>NaN</td>\n",
       "      <td>NaN</td>\n",
       "      <td>NaN</td>\n",
       "      <td>NaN</td>\n",
       "      <td>NaN</td>\n",
       "      <td>NaN</td>\n",
       "      <td>NaN</td>\n",
       "      <td>...</td>\n",
       "      <td>NaN</td>\n",
       "      <td>NaN</td>\n",
       "      <td>NaN</td>\n",
       "      <td>NaN</td>\n",
       "      <td>NaN</td>\n",
       "      <td>NaN</td>\n",
       "      <td>NaN</td>\n",
       "      <td>NaN</td>\n",
       "      <td>NaN</td>\n",
       "      <td>NaN</td>\n",
       "    </tr>\n",
       "    <tr>\n",
       "      <th>1</th>\n",
       "      <td>8951</td>\n",
       "      <td>2019-11-01 00:00:00</td>\n",
       "      <td>NaN</td>\n",
       "      <td>NaN</td>\n",
       "      <td>NaN</td>\n",
       "      <td>NaN</td>\n",
       "      <td>NaN</td>\n",
       "      <td>NaN</td>\n",
       "      <td>NaN</td>\n",
       "      <td>NaN</td>\n",
       "      <td>...</td>\n",
       "      <td>NaN</td>\n",
       "      <td>NaN</td>\n",
       "      <td>NaN</td>\n",
       "      <td>NaN</td>\n",
       "      <td>NaN</td>\n",
       "      <td>NaN</td>\n",
       "      <td>NaN</td>\n",
       "      <td>NaN</td>\n",
       "      <td>NaN</td>\n",
       "      <td>NaN</td>\n",
       "    </tr>\n",
       "    <tr>\n",
       "      <th>2</th>\n",
       "      <td>3485</td>\n",
       "      <td>2019-11-01 00:00:00</td>\n",
       "      <td>NaN</td>\n",
       "      <td>NaN</td>\n",
       "      <td>NaN</td>\n",
       "      <td>NaN</td>\n",
       "      <td>NaN</td>\n",
       "      <td>NaN</td>\n",
       "      <td>NaN</td>\n",
       "      <td>NaN</td>\n",
       "      <td>...</td>\n",
       "      <td>NaN</td>\n",
       "      <td>NaN</td>\n",
       "      <td>NaN</td>\n",
       "      <td>NaN</td>\n",
       "      <td>NaN</td>\n",
       "      <td>NaN</td>\n",
       "      <td>NaN</td>\n",
       "      <td>NaN</td>\n",
       "      <td>NaN</td>\n",
       "      <td>NaN</td>\n",
       "    </tr>\n",
       "    <tr>\n",
       "      <th>3</th>\n",
       "      <td>8008</td>\n",
       "      <td>2019-11-01 00:00:00</td>\n",
       "      <td>2.0</td>\n",
       "      <td>6.0</td>\n",
       "      <td>12.0</td>\n",
       "      <td>24.0</td>\n",
       "      <td>NaN</td>\n",
       "      <td>NaN</td>\n",
       "      <td>NaN</td>\n",
       "      <td>NaN</td>\n",
       "      <td>...</td>\n",
       "      <td>0.0</td>\n",
       "      <td>0.0</td>\n",
       "      <td>0.0</td>\n",
       "      <td>0.0</td>\n",
       "      <td>0.0</td>\n",
       "      <td>0.0</td>\n",
       "      <td>0.0</td>\n",
       "      <td>0.0</td>\n",
       "      <td>0.0</td>\n",
       "      <td>0.0</td>\n",
       "    </tr>\n",
       "    <tr>\n",
       "      <th>4</th>\n",
       "      <td>1615</td>\n",
       "      <td>2019-11-01 00:00:00</td>\n",
       "      <td>NaN</td>\n",
       "      <td>NaN</td>\n",
       "      <td>NaN</td>\n",
       "      <td>NaN</td>\n",
       "      <td>0.0</td>\n",
       "      <td>0.0</td>\n",
       "      <td>0.0</td>\n",
       "      <td>0.0</td>\n",
       "      <td>...</td>\n",
       "      <td>0.0</td>\n",
       "      <td>0.0</td>\n",
       "      <td>0.0</td>\n",
       "      <td>0.0</td>\n",
       "      <td>0.0</td>\n",
       "      <td>0.0</td>\n",
       "      <td>0.0</td>\n",
       "      <td>0.0</td>\n",
       "      <td>0.0</td>\n",
       "      <td>0.0</td>\n",
       "    </tr>\n",
       "    <tr>\n",
       "      <th>5</th>\n",
       "      <td>6827</td>\n",
       "      <td>2019-11-01 00:00:00</td>\n",
       "      <td>NaN</td>\n",
       "      <td>NaN</td>\n",
       "      <td>NaN</td>\n",
       "      <td>NaN</td>\n",
       "      <td>NaN</td>\n",
       "      <td>NaN</td>\n",
       "      <td>NaN</td>\n",
       "      <td>NaN</td>\n",
       "      <td>...</td>\n",
       "      <td>0.0</td>\n",
       "      <td>0.0</td>\n",
       "      <td>0.0</td>\n",
       "      <td>0.0</td>\n",
       "      <td>0.0</td>\n",
       "      <td>0.0</td>\n",
       "      <td>0.0</td>\n",
       "      <td>0.0</td>\n",
       "      <td>0.0</td>\n",
       "      <td>0.0</td>\n",
       "    </tr>\n",
       "    <tr>\n",
       "      <th>6</th>\n",
       "      <td>4451</td>\n",
       "      <td>2019-11-01 00:00:00</td>\n",
       "      <td>2.0</td>\n",
       "      <td>9.0</td>\n",
       "      <td>16.0</td>\n",
       "      <td>28.0</td>\n",
       "      <td>NaN</td>\n",
       "      <td>NaN</td>\n",
       "      <td>NaN</td>\n",
       "      <td>NaN</td>\n",
       "      <td>...</td>\n",
       "      <td>NaN</td>\n",
       "      <td>NaN</td>\n",
       "      <td>NaN</td>\n",
       "      <td>NaN</td>\n",
       "      <td>NaN</td>\n",
       "      <td>NaN</td>\n",
       "      <td>NaN</td>\n",
       "      <td>NaN</td>\n",
       "      <td>NaN</td>\n",
       "      <td>NaN</td>\n",
       "    </tr>\n",
       "    <tr>\n",
       "      <th>7</th>\n",
       "      <td>6539</td>\n",
       "      <td>2019-11-01 00:00:00</td>\n",
       "      <td>NaN</td>\n",
       "      <td>NaN</td>\n",
       "      <td>NaN</td>\n",
       "      <td>NaN</td>\n",
       "      <td>0.0</td>\n",
       "      <td>0.0</td>\n",
       "      <td>0.0</td>\n",
       "      <td>0.0</td>\n",
       "      <td>...</td>\n",
       "      <td>0.0</td>\n",
       "      <td>0.0</td>\n",
       "      <td>0.0</td>\n",
       "      <td>0.0</td>\n",
       "      <td>0.0</td>\n",
       "      <td>0.0</td>\n",
       "      <td>0.0</td>\n",
       "      <td>0.0</td>\n",
       "      <td>0.0</td>\n",
       "      <td>0.0</td>\n",
       "    </tr>\n",
       "    <tr>\n",
       "      <th>8</th>\n",
       "      <td>6596</td>\n",
       "      <td>2019-11-01 00:00:00</td>\n",
       "      <td>4.0</td>\n",
       "      <td>10.0</td>\n",
       "      <td>18.0</td>\n",
       "      <td>34.0</td>\n",
       "      <td>1.0</td>\n",
       "      <td>4.0</td>\n",
       "      <td>5.0</td>\n",
       "      <td>490000.0</td>\n",
       "      <td>...</td>\n",
       "      <td>0.0</td>\n",
       "      <td>0.0</td>\n",
       "      <td>0.0</td>\n",
       "      <td>0.0</td>\n",
       "      <td>0.0</td>\n",
       "      <td>0.0</td>\n",
       "      <td>0.0</td>\n",
       "      <td>0.0</td>\n",
       "      <td>0.0</td>\n",
       "      <td>0.0</td>\n",
       "    </tr>\n",
       "    <tr>\n",
       "      <th>9</th>\n",
       "      <td>825</td>\n",
       "      <td>2019-11-01 00:00:00</td>\n",
       "      <td>NaN</td>\n",
       "      <td>NaN</td>\n",
       "      <td>NaN</td>\n",
       "      <td>NaN</td>\n",
       "      <td>0.0</td>\n",
       "      <td>0.0</td>\n",
       "      <td>0.0</td>\n",
       "      <td>0.0</td>\n",
       "      <td>...</td>\n",
       "      <td>0.0</td>\n",
       "      <td>0.0</td>\n",
       "      <td>0.0</td>\n",
       "      <td>0.0</td>\n",
       "      <td>0.0</td>\n",
       "      <td>2.0</td>\n",
       "      <td>0.0</td>\n",
       "      <td>0.0</td>\n",
       "      <td>0.0</td>\n",
       "      <td>0.0</td>\n",
       "    </tr>\n",
       "  </tbody>\n",
       "</table>\n",
       "<p>10 rows × 220 columns</p>\n",
       "</div>"
      ],
      "text/plain": [
       "   client_id          report_date  cnt_zp_1m  cnt_zp_3m  cnt_zp_6m  \\\n",
       "0       4268  2019-11-01 00:00:00        NaN        NaN        NaN   \n",
       "1       8951  2019-11-01 00:00:00        NaN        NaN        NaN   \n",
       "2       3485  2019-11-01 00:00:00        NaN        NaN        NaN   \n",
       "3       8008  2019-11-01 00:00:00        2.0        6.0       12.0   \n",
       "4       1615  2019-11-01 00:00:00        NaN        NaN        NaN   \n",
       "5       6827  2019-11-01 00:00:00        NaN        NaN        NaN   \n",
       "6       4451  2019-11-01 00:00:00        2.0        9.0       16.0   \n",
       "7       6539  2019-11-01 00:00:00        NaN        NaN        NaN   \n",
       "8       6596  2019-11-01 00:00:00        4.0       10.0       18.0   \n",
       "9        825  2019-11-01 00:00:00        NaN        NaN        NaN   \n",
       "\n",
       "   cnt_zp_12m  downlimit_count  uplimit_count  limit_exchange_count  \\\n",
       "0         NaN              NaN            NaN                   NaN   \n",
       "1         NaN              NaN            NaN                   NaN   \n",
       "2         NaN              NaN            NaN                   NaN   \n",
       "3        24.0              NaN            NaN                   NaN   \n",
       "4         NaN              0.0            0.0                   0.0   \n",
       "5         NaN              NaN            NaN                   NaN   \n",
       "6        28.0              NaN            NaN                   NaN   \n",
       "7         NaN              0.0            0.0                   0.0   \n",
       "8        34.0              1.0            4.0                   5.0   \n",
       "9         NaN              0.0            0.0                   0.0   \n",
       "\n",
       "   cur_credit_limit  ...  curdel_30plus_bki  curdel_60plus_bank  \\\n",
       "0               NaN  ...                NaN                 NaN   \n",
       "1               NaN  ...                NaN                 NaN   \n",
       "2               NaN  ...                NaN                 NaN   \n",
       "3               NaN  ...                0.0                 0.0   \n",
       "4               0.0  ...                0.0                 0.0   \n",
       "5               NaN  ...                0.0                 0.0   \n",
       "6               NaN  ...                NaN                 NaN   \n",
       "7               0.0  ...                0.0                 0.0   \n",
       "8          490000.0  ...                0.0                 0.0   \n",
       "9               0.0  ...                0.0                 0.0   \n",
       "\n",
       "   curdel_60plus_bki  curdel_tech_bank  curdel_tech_bki  bank_1_29_5y_debtor  \\\n",
       "0                NaN               NaN              NaN                  NaN   \n",
       "1                NaN               NaN              NaN                  NaN   \n",
       "2                NaN               NaN              NaN                  NaN   \n",
       "3                0.0               0.0              0.0                  0.0   \n",
       "4                0.0               0.0              0.0                  0.0   \n",
       "5                0.0               0.0              0.0                  0.0   \n",
       "6                NaN               NaN              NaN                  NaN   \n",
       "7                0.0               0.0              0.0                  0.0   \n",
       "8                0.0               0.0              0.0                  0.0   \n",
       "9                0.0               0.0              0.0                  2.0   \n",
       "\n",
       "   bank_30_59_5y_debtor  bank_60_89_5y_debtor  bank_90_119_5y_debtor  \\\n",
       "0                   NaN                   NaN                    NaN   \n",
       "1                   NaN                   NaN                    NaN   \n",
       "2                   NaN                   NaN                    NaN   \n",
       "3                   0.0                   0.0                    0.0   \n",
       "4                   0.0                   0.0                    0.0   \n",
       "5                   0.0                   0.0                    0.0   \n",
       "6                   NaN                   NaN                    NaN   \n",
       "7                   0.0                   0.0                    0.0   \n",
       "8                   0.0                   0.0                    0.0   \n",
       "9                   0.0                   0.0                    0.0   \n",
       "\n",
       "   bank_120plus_5y_debtor  \n",
       "0                     NaN  \n",
       "1                     NaN  \n",
       "2                     NaN  \n",
       "3                     0.0  \n",
       "4                     0.0  \n",
       "5                     0.0  \n",
       "6                     NaN  \n",
       "7                     0.0  \n",
       "8                     0.0  \n",
       "9                     0.0  \n",
       "\n",
       "[10 rows x 220 columns]"
      ]
     },
     "execution_count": 85,
     "metadata": {},
     "output_type": "execute_result"
    }
   ],
   "source": [
    "aggregates.head(10)"
   ]
  },
  {
   "cell_type": "code",
   "execution_count": 86,
   "id": "dietary-server",
   "metadata": {},
   "outputs": [
    {
     "data": {
      "text/html": [
       "<div>\n",
       "<style scoped>\n",
       "    .dataframe tbody tr th:only-of-type {\n",
       "        vertical-align: middle;\n",
       "    }\n",
       "\n",
       "    .dataframe tbody tr th {\n",
       "        vertical-align: top;\n",
       "    }\n",
       "\n",
       "    .dataframe thead th {\n",
       "        text-align: right;\n",
       "    }\n",
       "</style>\n",
       "<table border=\"1\" class=\"dataframe\">\n",
       "  <thead>\n",
       "    <tr style=\"text-align: right;\">\n",
       "      <th></th>\n",
       "      <th>client_id</th>\n",
       "      <th>last_day_month</th>\n",
       "      <th>mcc_group</th>\n",
       "      <th>att_sum</th>\n",
       "      <th>att_cnt</th>\n",
       "      <th>att_sum_min</th>\n",
       "      <th>att_sum_max</th>\n",
       "      <th>att_sum_avg</th>\n",
       "    </tr>\n",
       "  </thead>\n",
       "  <tbody>\n",
       "    <tr>\n",
       "      <th>0</th>\n",
       "      <td>1322</td>\n",
       "      <td>2019-12-31</td>\n",
       "      <td>TRANSPORTATION</td>\n",
       "      <td>90.00</td>\n",
       "      <td>3</td>\n",
       "      <td>23.00</td>\n",
       "      <td>44.00</td>\n",
       "      <td>30.000000</td>\n",
       "    </tr>\n",
       "    <tr>\n",
       "      <th>1</th>\n",
       "      <td>7737</td>\n",
       "      <td>2019-05-31</td>\n",
       "      <td>RETAIL STORES</td>\n",
       "      <td>989.00</td>\n",
       "      <td>5</td>\n",
       "      <td>99.00</td>\n",
       "      <td>423.00</td>\n",
       "      <td>197.800000</td>\n",
       "    </tr>\n",
       "    <tr>\n",
       "      <th>2</th>\n",
       "      <td>9549</td>\n",
       "      <td>2020-03-31</td>\n",
       "      <td>NON FOOD RETAIL</td>\n",
       "      <td>11878.55</td>\n",
       "      <td>24</td>\n",
       "      <td>52.79</td>\n",
       "      <td>2303.00</td>\n",
       "      <td>494.939583</td>\n",
       "    </tr>\n",
       "    <tr>\n",
       "      <th>3</th>\n",
       "      <td>4562</td>\n",
       "      <td>2019-12-31</td>\n",
       "      <td>FINANCIAL SERVICES</td>\n",
       "      <td>15000.00</td>\n",
       "      <td>1</td>\n",
       "      <td>15000.00</td>\n",
       "      <td>15000.00</td>\n",
       "      <td>15000.000000</td>\n",
       "    </tr>\n",
       "    <tr>\n",
       "      <th>4</th>\n",
       "      <td>7112</td>\n",
       "      <td>2020-02-29</td>\n",
       "      <td>BUSINESS SERVICES</td>\n",
       "      <td>887.60</td>\n",
       "      <td>3</td>\n",
       "      <td>107.10</td>\n",
       "      <td>413.70</td>\n",
       "      <td>295.866666</td>\n",
       "    </tr>\n",
       "    <tr>\n",
       "      <th>5</th>\n",
       "      <td>8009</td>\n",
       "      <td>2020-05-31</td>\n",
       "      <td>MEDICAL SERVICES</td>\n",
       "      <td>2700.00</td>\n",
       "      <td>1</td>\n",
       "      <td>2700.00</td>\n",
       "      <td>2700.00</td>\n",
       "      <td>2700.000000</td>\n",
       "    </tr>\n",
       "    <tr>\n",
       "      <th>6</th>\n",
       "      <td>4653</td>\n",
       "      <td>2019-08-31</td>\n",
       "      <td>RETAIL STORES</td>\n",
       "      <td>3559.89</td>\n",
       "      <td>2</td>\n",
       "      <td>341.10</td>\n",
       "      <td>3218.79</td>\n",
       "      <td>1779.945000</td>\n",
       "    </tr>\n",
       "    <tr>\n",
       "      <th>7</th>\n",
       "      <td>6233</td>\n",
       "      <td>2018-08-31</td>\n",
       "      <td>RETAIL STORES</td>\n",
       "      <td>6035.84</td>\n",
       "      <td>17</td>\n",
       "      <td>44.99</td>\n",
       "      <td>1006.00</td>\n",
       "      <td>355.049411</td>\n",
       "    </tr>\n",
       "    <tr>\n",
       "      <th>8</th>\n",
       "      <td>4946</td>\n",
       "      <td>2020-04-30</td>\n",
       "      <td>NON FOOD RETAIL</td>\n",
       "      <td>300.00</td>\n",
       "      <td>1</td>\n",
       "      <td>300.00</td>\n",
       "      <td>300.00</td>\n",
       "      <td>300.000000</td>\n",
       "    </tr>\n",
       "    <tr>\n",
       "      <th>9</th>\n",
       "      <td>6989</td>\n",
       "      <td>2018-12-31</td>\n",
       "      <td>RETAIL STORES</td>\n",
       "      <td>12570.00</td>\n",
       "      <td>2</td>\n",
       "      <td>3300.00</td>\n",
       "      <td>9270.00</td>\n",
       "      <td>6285.000000</td>\n",
       "    </tr>\n",
       "  </tbody>\n",
       "</table>\n",
       "</div>"
      ],
      "text/plain": [
       "   client_id last_day_month           mcc_group   att_sum  att_cnt  \\\n",
       "0       1322     2019-12-31      TRANSPORTATION     90.00        3   \n",
       "1       7737     2019-05-31       RETAIL STORES    989.00        5   \n",
       "2       9549     2020-03-31     NON FOOD RETAIL  11878.55       24   \n",
       "3       4562     2019-12-31  FINANCIAL SERVICES  15000.00        1   \n",
       "4       7112     2020-02-29   BUSINESS SERVICES    887.60        3   \n",
       "5       8009     2020-05-31    MEDICAL SERVICES   2700.00        1   \n",
       "6       4653     2019-08-31       RETAIL STORES   3559.89        2   \n",
       "7       6233     2018-08-31       RETAIL STORES   6035.84       17   \n",
       "8       4946     2020-04-30     NON FOOD RETAIL    300.00        1   \n",
       "9       6989     2018-12-31       RETAIL STORES  12570.00        2   \n",
       "\n",
       "   att_sum_min  att_sum_max   att_sum_avg  \n",
       "0        23.00        44.00     30.000000  \n",
       "1        99.00       423.00    197.800000  \n",
       "2        52.79      2303.00    494.939583  \n",
       "3     15000.00     15000.00  15000.000000  \n",
       "4       107.10       413.70    295.866666  \n",
       "5      2700.00      2700.00   2700.000000  \n",
       "6       341.10      3218.79   1779.945000  \n",
       "7        44.99      1006.00    355.049411  \n",
       "8       300.00       300.00    300.000000  \n",
       "9      3300.00      9270.00   6285.000000  "
      ]
     },
     "execution_count": 86,
     "metadata": {},
     "output_type": "execute_result"
    }
   ],
   "source": [
    "transactions.head(10)"
   ]
  },
  {
   "cell_type": "code",
   "execution_count": 87,
   "id": "biblical-safety",
   "metadata": {},
   "outputs": [
    {
     "name": "stdout",
     "output_type": "stream",
     "text": [
      "(177963, 220) (751747, 8)\n"
     ]
    }
   ],
   "source": [
    "print(aggregates.shape, transactions.shape)"
   ]
  },
  {
   "cell_type": "markdown",
   "id": "endless-batch",
   "metadata": {},
   "source": [
    "**Частота использования конкретной МСС группы для каждого пользователя**\n",
    "* df_final_abs - конкретное кол-во использования\n",
    "* df_final_rel - относительная частота"
   ]
  },
  {
   "cell_type": "code",
   "execution_count": 88,
   "id": "affected-basics",
   "metadata": {},
   "outputs": [],
   "source": [
    "groups = transactions.value_counts([\"client_id\", \"mcc_group\"])\n",
    "df_final_abs = groups.unstack().fillna(0).astype(int)\n",
    "df_final_rel = df_final_abs.div(transactions.groupby(['client_id']).size(), axis = 0)"
   ]
  },
  {
   "cell_type": "markdown",
   "id": "selective-decline",
   "metadata": {},
   "source": [
    "**Количество уникальных клиентов**"
   ]
  },
  {
   "cell_type": "code",
   "execution_count": 89,
   "id": "quarterly-grenada",
   "metadata": {},
   "outputs": [
    {
     "data": {
      "text/plain": [
       "(9895,)"
      ]
     },
     "execution_count": 89,
     "metadata": {},
     "output_type": "execute_result"
    }
   ],
   "source": [
    "np.unique(list(aggregates['client_id'])).shape"
   ]
  },
  {
   "cell_type": "markdown",
   "id": "sticky-camel",
   "metadata": {},
   "source": [
    "Работа с признаком **report_date**"
   ]
  },
  {
   "cell_type": "code",
   "execution_count": 157,
   "id": "spatial-restoration",
   "metadata": {},
   "outputs": [
    {
     "data": {
      "text/plain": [
       "86454    2019-01-01\n",
       "71685    2019-01-01\n",
       "71686    2019-01-01\n",
       "71687    2019-01-01\n",
       "71688    2019-01-01\n",
       "            ...    \n",
       "111570   2020-10-01\n",
       "111569   2020-10-01\n",
       "111568   2020-10-01\n",
       "111574   2020-10-01\n",
       "88981    2020-10-01\n",
       "Name: report_date, Length: 177963, dtype: datetime64[ns]"
      ]
     },
     "execution_count": 157,
     "metadata": {},
     "output_type": "execute_result"
    }
   ],
   "source": [
    "from datetime import datetime, date\n",
    "aggregates = aggregates.sort_values(by=['report_date'])\n",
    "aggregates['report_date'] = aggregates['report_date'].apply(lambda x: x.split(' ')[0])\n",
    "aggregates['report_date'] = aggregates['report_date'].apply(lambda x: datetime.strptime(x ,'%Y-%m-%d'))\n",
    "#Переводим в timestamp\n",
    "aggregates['ts'] = aggregates['report_date'].astype(np.int64) // 10 ** 9\n",
    "#Нормируем\n",
    "#aggregates['ts'] = aggregates['ts']/np.mean(aggregates['ts'])\n",
    "aggregates.pop('report_date')"
   ]
  },
  {
   "cell_type": "markdown",
   "id": "purple-minister",
   "metadata": {},
   "source": [
    "**Время**"
   ]
  },
  {
   "cell_type": "code",
   "execution_count": 158,
   "id": "sustainable-nurse",
   "metadata": {},
   "outputs": [
    {
     "data": {
      "text/plain": [
       "214110   2018-06-01\n",
       "42467    2018-06-01\n",
       "42464    2018-06-01\n",
       "347811   2018-06-01\n",
       "347785   2018-06-01\n",
       "            ...    \n",
       "58144    2020-09-01\n",
       "582843   2020-09-01\n",
       "494182   2020-09-01\n",
       "494126   2020-09-01\n",
       "166844   2020-09-01\n",
       "Name: last_day_month, Length: 751747, dtype: datetime64[ns]"
      ]
     },
     "execution_count": 158,
     "metadata": {},
     "output_type": "execute_result"
    }
   ],
   "source": [
    "transactions = transactions.sort_values(by=['last_day_month'])\n",
    "#transactions['last_day_month'] = transactions['last_day_month'].apply(lambda x: x.split(' ')[0])\n",
    "transactions['last_day_month'] = transactions['last_day_month'].apply(lambda x: datetime.strptime(x ,'%Y-%m-%d'))\n",
    "transactions['last_day_month'] = transactions['last_day_month'].apply(lambda x: x.replace(day=1))\n",
    "#Переводим в timestamp\n",
    "transactions['ts'] = transactions['last_day_month'].astype(np.int64) // 10 ** 9\n",
    "#Нормируем\n",
    "#transactions['ts'] = transactions['ts']/np.mean(transactions['ts'])\n",
    "transactions.pop('last_day_month')"
   ]
  },
  {
   "cell_type": "code",
   "execution_count": 159,
   "id": "specialized-earthquake",
   "metadata": {},
   "outputs": [],
   "source": [
    "transactions = transactions.sort_values(by=['att_sum'])\n",
    "transactions = transactions.drop_duplicates(subset=['client_id', 'ts'], keep='first')"
   ]
  },
  {
   "cell_type": "code",
   "execution_count": null,
   "id": "married-ocean",
   "metadata": {},
   "outputs": [],
   "source": [
    "print('Данные представлены')\n",
    "print('c', min(aggregates['report_date']))\n",
    "print('по', max(aggregates['report_date']))"
   ]
  },
  {
   "cell_type": "markdown",
   "id": "worthy-examination",
   "metadata": {},
   "source": [
    "**Проанализируем сколько есть информации на каждого клиента в таблице aggregates**"
   ]
  },
  {
   "cell_type": "code",
   "execution_count": 47,
   "id": "dying-miniature",
   "metadata": {},
   "outputs": [],
   "source": [
    "def funcNan(df):\n",
    "    res = np.count_nonzero(df.count().values)\n",
    "    return res\n",
    "    \n",
    "res = aggregates.groupby(['client_id']).apply(funcNan)"
   ]
  },
  {
   "cell_type": "code",
   "execution_count": 48,
   "id": "answering-version",
   "metadata": {},
   "outputs": [
    {
     "data": {
      "image/png": "[encoded data removed]",
      "text/plain": [
       "<Figure size 1800x720 with 1 Axes>"
      ]
     },
     "metadata": {
      "needs_background": "light"
     },
     "output_type": "display_data"
    }
   ],
   "source": [
    "fig, ax = plt.subplots(1, 1,figsize=(25, 10))\n",
    "ax.bar(res.index, res.values)\n",
    "ax.set_xlabel('client_id', fontsize=12)\n",
    "ax.set_ylabel('amount of not Nan features', fontsize=12)\n",
    "plt.show()"
   ]
  },
  {
   "cell_type": "markdown",
   "id": "liberal-gateway",
   "metadata": {},
   "source": [
    "Делаем вывод, что количество информации о каждом клиенте, которой мы владеем, отличается между клинетами достаточно сильно"
   ]
  },
  {
   "cell_type": "markdown",
   "id": "prospective-lithuania",
   "metadata": {},
   "source": [
    "**Посчитаем квантили \"количества информации\", имеющейся о клиентах:** "
   ]
  },
  {
   "cell_type": "code",
   "execution_count": 49,
   "id": "subjective-posting",
   "metadata": {},
   "outputs": [
    {
     "data": {
      "text/plain": [
       "array([ 19.,  34., 125., 162., 199.])"
      ]
     },
     "execution_count": 49,
     "metadata": {},
     "output_type": "execute_result"
    }
   ],
   "source": [
    "np.quantile(res.values, [0.05, 0.25,0.5,0.75, 0.95])"
   ]
  },
  {
   "cell_type": "markdown",
   "id": "helpful-premium",
   "metadata": {},
   "source": [
    "Таким образом, видим, что у 5-ти % пользователей, по которым мы располагаем наименьшей информацией заполнено 18 полей из 220, а среднее заполнение информации на пользователя равно 124 полям"
   ]
  },
  {
   "cell_type": "markdown",
   "id": "wooden-valuable",
   "metadata": {},
   "source": [
    "По столбцу **report_date** видим,что информация дискретна по месяцам"
   ]
  },
  {
   "cell_type": "markdown",
   "id": "located-floating",
   "metadata": {},
   "source": [
    "**Найдем признаки, по которым меньше всего информации**"
   ]
  },
  {
   "cell_type": "code",
   "execution_count": 50,
   "id": "filled-feature",
   "metadata": {},
   "outputs": [],
   "source": [
    "resFeature = aggregates.apply(lambda x: x.count(), axis =0)"
   ]
  },
  {
   "cell_type": "code",
   "execution_count": 51,
   "id": "through-mechanics",
   "metadata": {
    "scrolled": true
   },
   "outputs": [
    {
     "data": {
      "image/png": "[encoded data removed]",
      "text/plain": [
       "<Figure size 1440x1080 with 1 Axes>"
      ]
     },
     "metadata": {
      "needs_background": "light"
     },
     "output_type": "display_data"
    }
   ],
   "source": [
    "plot = resFeature[2:].plot\n",
    "ax = plot.bar(figsize=(20,15))"
   ]
  },
  {
   "cell_type": "markdown",
   "id": "thermal-motion",
   "metadata": {},
   "source": [
    "**По бар плоту видим, что признаки неравномерно покрывают каждого клиента**"
   ]
  },
  {
   "cell_type": "code",
   "execution_count": 160,
   "id": "ranging-elimination",
   "metadata": {},
   "outputs": [],
   "source": [
    "new_df = pd.merge(aggregates,transactions,  how='left', left_on=['client_id','ts'],\n",
    "                  right_on = ['client_id', 'ts'])"
   ]
  },
  {
   "cell_type": "code",
   "execution_count": 163,
   "id": "incorrect-college",
   "metadata": {},
   "outputs": [],
   "source": [
    "new_df['mcc_group'] = new_df['mcc_group'].fillna('default')"
   ]
  },
  {
   "cell_type": "code",
   "execution_count": 110,
   "id": "downtown-greenhouse",
   "metadata": {},
   "outputs": [
    {
     "data": {
      "text/plain": [
       "(177963, 220)"
      ]
     },
     "execution_count": 110,
     "metadata": {},
     "output_type": "execute_result"
    }
   ],
   "source": [
    "aggregates.shape"
   ]
  },
  {
   "cell_type": "code",
   "execution_count": 111,
   "id": "expected-allocation",
   "metadata": {},
   "outputs": [
    {
     "data": {
      "text/plain": [
       "(751747, 8)"
      ]
     },
     "execution_count": 111,
     "metadata": {},
     "output_type": "execute_result"
    }
   ],
   "source": [
    "transactions.shape"
   ]
  },
  {
   "cell_type": "markdown",
   "id": "mathematical-combining",
   "metadata": {},
   "source": [
    "**Предобработка данных**"
   ]
  },
  {
   "cell_type": "markdown",
   "id": "ultimate-holly",
   "metadata": {},
   "source": [
    "****Формируем таргет****\n"
   ]
  },
  {
   "cell_type": "markdown",
   "id": "infectious-going",
   "metadata": {},
   "source": [
    "Так как необходимо выявить склонность клиента к продукту \"потребительский кредит\", то в качестве таргеты выберем признак *cl_open* - ***количество открытых потребительских кредитов***. Будем считать, что был открыт новый кредит, если cl_open увеличилось. Таргет будет бинарный, то есть кредит либо взят, либо нет. "
   ]
  },
  {
   "cell_type": "code",
   "execution_count": 164,
   "id": "interim-ensemble",
   "metadata": {},
   "outputs": [],
   "source": [
    "def append_target(df):\n",
    "    serial = df['cl_open']\n",
    "    shift = serial.shift()\n",
    "    df['target'] = np.heaviside((serial - shift).fillna(0), 0)\n",
    "    return df\n",
    "    \n",
    "new_df = new_df.groupby('client_id').apply(append_target)"
   ]
  },
  {
   "cell_type": "markdown",
   "id": "monthly-child",
   "metadata": {},
   "source": [
    "**Работа с категориальными признаками**"
   ]
  },
  {
   "cell_type": "code",
   "execution_count": 165,
   "id": "balanced-welding",
   "metadata": {},
   "outputs": [
    {
     "data": {
      "text/plain": [
       "['app_rel_status',\n",
       " 'app_education_nm',\n",
       " 'app_industry_nm',\n",
       " 'app_employment_type_nm',\n",
       " 'app_position_type_nm',\n",
       " 'app_client_category',\n",
       " 'cre_date',\n",
       " 'mcc_group']"
      ]
     },
     "execution_count": 165,
     "metadata": {},
     "output_type": "execute_result"
    }
   ],
   "source": [
    "new_df.select_dtypes(['object']).columns.to_list()"
   ]
  },
  {
   "cell_type": "markdown",
   "id": "swedish-resource",
   "metadata": {},
   "source": [
    "Для обучения модели не будем использовать признаки: **сфера деятельности, категория клиента, категория клиента, дата запроса из cre, должность**"
   ]
  },
  {
   "cell_type": "code",
   "execution_count": 166,
   "id": "conservative-supply",
   "metadata": {},
   "outputs": [],
   "source": [
    "new_df.drop(['app_industry_nm'], inplace=True, axis=1)\n",
    "new_df.drop(['app_client_category'], inplace=True, axis=1)\n",
    "new_df.drop(['app_employment_type_nm'], inplace=True, axis=1)\n",
    "new_df.drop(['cre_date'], inplace=True, axis=1)\n",
    "new_df.drop(['app_position_type_nm'], inplace=True, axis=1)"
   ]
  },
  {
   "cell_type": "markdown",
   "id": "handled-bacon",
   "metadata": {},
   "source": [
    "**Преобразование признака образования**"
   ]
  },
  {
   "cell_type": "markdown",
   "id": "german-opportunity",
   "metadata": {},
   "source": [
    "Захешируем данные признака в виде чисел"
   ]
  },
  {
   "cell_type": "code",
   "execution_count": 167,
   "id": "later-reward",
   "metadata": {},
   "outputs": [],
   "source": [
    "dict_replace = {' ': 0,\n",
    " 0: 0,\n",
    " 'Неполное высшее': 1,\n",
    " 'Высшее': 2,\n",
    " 'Средне-специальное': 1,\n",
    " 'Среднее специальное': 1,\n",
    " 'Среднее': 1,\n",
    " 'среднее-специальное': 1,\n",
    " 'Незаконченное высшее': 1,\n",
    " 'Два и более высших': 2,\n",
    " 'высшее': 2,\n",
    " 'Ученая степень': 2}\n",
    "new_df['app_education_nm'] = new_df['app_education_nm'].map(dict_replace)\n",
    "new_df['app_education_nm'] = new_df['app_education_nm'].fillna(0)"
   ]
  },
  {
   "cell_type": "markdown",
   "id": "canadian-cassette",
   "metadata": {},
   "source": [
    "Преобразование признака **семейного положения**"
   ]
  },
  {
   "cell_type": "markdown",
   "id": "applied-tongue",
   "metadata": {},
   "source": [
    "Захешируем данные признаки в виде чисел"
   ]
  },
  {
   "cell_type": "code",
   "execution_count": 168,
   "id": "mental-holmes",
   "metadata": {},
   "outputs": [],
   "source": [
    "dict_rel_status = ({'Женат/Замужем':0, 'Холост / Не замужем':1,'Состоит в зарегистрированном браке':0,\n",
    "                'Разведен/Разведена':1, 'Никогда не состоял(а) в браке':1, 'женат / замужем':0, \n",
    "                'Разведен(а) официально (развод зарегистрирован)':1, 'холост / не замужем':1, \n",
    "                'Вдовец/Вдова':1, 'в разводе':1, 'Гражданский брак':0, 'Вдовец (вдова)':1, 'Холост':1,\n",
    "                'Холост/Не замужем':1, 'Женат / Замужем (брачный контракт) ':0, 'Одинокий':1, 'В разводе':1, \n",
    "                'Незамужем':1, 'вдова/вдовец':1, 'Женат':0, 'Состоит в незарегистрированном браке':0, \n",
    "                'Замужем': 0,'гражданский брак':0, 'женат / замужем (брачный контракт)':0,' ':1})\n",
    "\n",
    "new_df['app_rel_status'] = new_df['app_rel_status'].map(dict_rel_status)\n",
    "new_df['app_rel_status'] = new_df['app_rel_status'].fillna(0)"
   ]
  },
  {
   "cell_type": "markdown",
   "id": "detailed-vacation",
   "metadata": {},
   "source": [
    "**Преобразование client_id**"
   ]
  },
  {
   "cell_type": "code",
   "execution_count": 169,
   "id": "collective-panama",
   "metadata": {},
   "outputs": [
    {
     "data": {
      "text/plain": [
       "9895"
      ]
     },
     "execution_count": 169,
     "metadata": {},
     "output_type": "execute_result"
    }
   ],
   "source": [
    "new_df['client_id'].unique().size"
   ]
  },
  {
   "cell_type": "markdown",
   "id": "devoted-blair",
   "metadata": {},
   "source": [
    "Уникальных клиентов много (9895), поэтому использование one-hot encoding не есть оптимальный способ представлния каотегориальных признаков. Переведем номер client_id в двличный код и тогда пространство признаков увеличится на 14, а не на 9895"
   ]
  },
  {
   "cell_type": "code",
   "execution_count": 170,
   "id": "absolute-indicator",
   "metadata": {},
   "outputs": [
    {
     "data": {
      "text/plain": [
       "0         2609\n",
       "1          733\n",
       "2         8584\n",
       "3          767\n",
       "4         5900\n",
       "          ... \n",
       "177958    7653\n",
       "177959    3729\n",
       "177960    4626\n",
       "177961    7595\n",
       "177962    8523\n",
       "Name: client_id, Length: 177963, dtype: int64"
      ]
     },
     "execution_count": 170,
     "metadata": {},
     "output_type": "execute_result"
    }
   ],
   "source": [
    "client_id_cols = ['client_id_col_' + str(i) for i in range(14)]\n",
    "list_binary= ['{0:14b}'.format(i) for i in list(new_df['client_id'])]\n",
    "new_df['bin'] = [i.replace(' ', '0') for i in list_binary]\n",
    "new_df[client_id_cols] = new_df['bin'].apply(list).tolist()\n",
    "new_df[client_id_cols] =new_df[client_id_cols].astype(int)\n",
    "new_df.pop('bin')\n",
    "new_df.pop('client_id')"
   ]
  },
  {
   "cell_type": "markdown",
   "id": "structural-blast",
   "metadata": {},
   "source": [
    "**Нормировка данных**"
   ]
  },
  {
   "cell_type": "code",
   "execution_count": 171,
   "id": "welsh-rider",
   "metadata": {},
   "outputs": [],
   "source": [
    "#возраст\n",
    "new_df['age'] = np.round(new_df['age'])\n",
    "new_df['age'] = new_df['age']/np.mean(new_df['age'])\n",
    "\n",
    "#доход клиента\n",
    "new_df['app_income_from_amt'] = new_df['app_income_from_amt']/np.mean(new_df['app_income_from_amt'])\n",
    "new_df['app_income_to_amt'] = new_df['app_income_to_amt']/np.mean(new_df['app_income_to_amt'])\n",
    "\n",
    "new_df['ts'] = new_df['ts']/np.mean(new_df['ts'])\n"
   ]
  },
  {
   "cell_type": "markdown",
   "id": "aggressive-doctrine",
   "metadata": {},
   "source": [
    "**Уникальные МСС группы**"
   ]
  },
  {
   "cell_type": "code",
   "execution_count": 173,
   "id": "inclusive-factor",
   "metadata": {},
   "outputs": [
    {
     "data": {
      "text/plain": [
       "array(['AIRLINES', 'AUTO', 'BAR', 'BUSINESS SERVICES', 'CHARITY',\n",
       "       'CLOTHING STORES', 'CONSTRUCTION SERVICES', 'EDUCATION',\n",
       "       'ENTERTAINMENT', 'FINANCIAL SERVICES', 'GAMBLING',\n",
       "       'GOVERNMENT SERVICES', 'HOTEL', 'LEGAL SERVICES',\n",
       "       'MEDICAL SERVICES', 'NON FOOD RETAIL', 'PERSONAL SERVICES',\n",
       "       'PRINTING SERVICES', 'PUBLIC SERVICE', 'REPAIR SERVICES',\n",
       "       'RETAIL STORES', 'SALES BY MAIL AND PHONE', 'SERVICE PROVIDER',\n",
       "       'TRANSPORTATION', 'UNCLASSIFIED PAYMENTS', 'VEHICLE RENTAL',\n",
       "       'WHOLESALE', 'default', 'unknown'], dtype=object)"
      ]
     },
     "execution_count": 173,
     "metadata": {},
     "output_type": "execute_result"
    }
   ],
   "source": [
    "np.unique((new_df['mcc_group']))"
   ]
  },
  {
   "cell_type": "code",
   "execution_count": 174,
   "id": "narrow-addition",
   "metadata": {
    "scrolled": true
   },
   "outputs": [
    {
     "data": {
      "text/plain": [
       "0                 default\n",
       "1                 default\n",
       "2                 default\n",
       "3         NON FOOD RETAIL\n",
       "4         CLOTHING STORES\n",
       "               ...       \n",
       "177958            default\n",
       "177959            default\n",
       "177960            default\n",
       "177961            default\n",
       "177962            default\n",
       "Name: mcc_group, Length: 177963, dtype: object"
      ]
     },
     "execution_count": 174,
     "metadata": {},
     "output_type": "execute_result"
    }
   ],
   "source": [
    "mcc_cat = pd.get_dummies(new_df.mcc_group, prefix='mcc')\n",
    "new_df[mcc_cat.columns] = np.array(mcc_cat)\n",
    "new_df.pop('mcc_group')"
   ]
  },
  {
   "cell_type": "code",
   "execution_count": 175,
   "id": "nervous-munich",
   "metadata": {},
   "outputs": [],
   "source": [
    "new_df = new_df.fillna(0)"
   ]
  },
  {
   "cell_type": "markdown",
   "id": "usual-adaptation",
   "metadata": {},
   "source": [
    "**Сохраним готовую таблицу**"
   ]
  },
  {
   "cell_type": "code",
   "execution_count": 176,
   "id": "veterinary-organic",
   "metadata": {},
   "outputs": [],
   "source": [
    "new_df.to_csv('final.csv')"
   ]
  },
  {
   "cell_type": "markdown",
   "id": "permanent-packet",
   "metadata": {},
   "source": [
    "**Переходим к обучению модели**"
   ]
  },
  {
   "cell_type": "code",
   "execution_count": 177,
   "id": "certain-speaking",
   "metadata": {},
   "outputs": [],
   "source": [
    "import numpy as np\n",
    "import pandas as pd\n",
    "import lightgbm\n",
    "from sklearn.model_selection import train_test_split\n",
    "from sklearn.preprocessing import LabelBinarizer\n",
    "import matplotlib.pyplot as plt\n",
    "import json"
   ]
  },
  {
   "cell_type": "code",
   "execution_count": 179,
   "id": "median-giant",
   "metadata": {},
   "outputs": [
    {
     "data": {
      "text/plain": [
       "0         0.0\n",
       "1         0.0\n",
       "2         0.0\n",
       "3         0.0\n",
       "4         0.0\n",
       "         ... \n",
       "177958    0.0\n",
       "177959    0.0\n",
       "177960    0.0\n",
       "177961    0.0\n",
       "177962    0.0\n",
       "Name: target, Length: 177963, dtype: float64"
      ]
     },
     "execution_count": 179,
     "metadata": {},
     "output_type": "execute_result"
    }
   ],
   "source": [
    "new_df['target']"
   ]
  },
  {
   "cell_type": "code",
   "execution_count": 181,
   "id": "brutal-pacific",
   "metadata": {
    "scrolled": true
   },
   "outputs": [
    {
     "name": "stdout",
     "output_type": "stream",
     "text": [
      "[LightGBM] [Warning] objective is set=binary, application=binary will be ignored. Current value: objective=binary\n",
      "[LightGBM] [Warning] objective is set=binary, application=binary will be ignored. Current value: objective=binary\n",
      "[LightGBM] [Warning] Auto-choosing row-wise multi-threading, the overhead of testing was 0.095970 seconds.\n",
      "You can set `force_row_wise=true` to remove the overhead.\n",
      "And if memory is not enough, you can set `force_col_wise=true`.\n",
      "[LightGBM] [Warning] objective is set=binary, application=binary will be ignored. Current value: objective=binary\n",
      "[1]\tvalid_0's auc: 0.957946\n",
      "Training until validation scores don't improve for 100 rounds\n",
      "[2]\tvalid_0's auc: 0.966172\n",
      "[3]\tvalid_0's auc: 0.968819\n",
      "[4]\tvalid_0's auc: 0.970968\n",
      "[5]\tvalid_0's auc: 0.972616\n",
      "[6]\tvalid_0's auc: 0.973556\n",
      "[7]\tvalid_0's auc: 0.974802\n",
      "[8]\tvalid_0's auc: 0.975644\n",
      "[9]\tvalid_0's auc: 0.976274\n",
      "[10]\tvalid_0's auc: 0.976783\n",
      "[11]\tvalid_0's auc: 0.977838\n",
      "[12]\tvalid_0's auc: 0.978456\n",
      "[13]\tvalid_0's auc: 0.978838\n",
      "[14]\tvalid_0's auc: 0.979143\n",
      "[15]\tvalid_0's auc: 0.979606\n",
      "[16]\tvalid_0's auc: 0.979767\n",
      "[17]\tvalid_0's auc: 0.979851\n",
      "[18]\tvalid_0's auc: 0.980241\n",
      "[19]\tvalid_0's auc: 0.980567\n",
      "[20]\tvalid_0's auc: 0.980953\n",
      "[21]\tvalid_0's auc: 0.980942\n",
      "[22]\tvalid_0's auc: 0.9811\n",
      "[23]\tvalid_0's auc: 0.981497\n",
      "[24]\tvalid_0's auc: 0.981776\n",
      "[25]\tvalid_0's auc: 0.982093\n",
      "[26]\tvalid_0's auc: 0.982418\n",
      "[27]\tvalid_0's auc: 0.982654\n",
      "[28]\tvalid_0's auc: 0.982655\n",
      "[29]\tvalid_0's auc: 0.982922\n",
      "[30]\tvalid_0's auc: 0.983169\n",
      "[31]\tvalid_0's auc: 0.98341\n",
      "[32]\tvalid_0's auc: 0.983574\n",
      "[33]\tvalid_0's auc: 0.983579\n",
      "[34]\tvalid_0's auc: 0.983825\n",
      "[35]\tvalid_0's auc: 0.983943\n",
      "[36]\tvalid_0's auc: 0.98398\n",
      "[37]\tvalid_0's auc: 0.984143\n",
      "[38]\tvalid_0's auc: 0.984306\n",
      "[39]\tvalid_0's auc: 0.984409\n",
      "[40]\tvalid_0's auc: 0.98464\n",
      "[41]\tvalid_0's auc: 0.984848\n",
      "[42]\tvalid_0's auc: 0.984972\n",
      "[43]\tvalid_0's auc: 0.985197\n",
      "[44]\tvalid_0's auc: 0.985337\n",
      "[45]\tvalid_0's auc: 0.985397\n",
      "[46]\tvalid_0's auc: 0.985526\n",
      "[47]\tvalid_0's auc: 0.985647\n",
      "[48]\tvalid_0's auc: 0.985752\n",
      "[49]\tvalid_0's auc: 0.985845\n",
      "[50]\tvalid_0's auc: 0.986124\n",
      "[51]\tvalid_0's auc: 0.986248\n",
      "[52]\tvalid_0's auc: 0.986377\n",
      "[53]\tvalid_0's auc: 0.986448\n",
      "[54]\tvalid_0's auc: 0.986616\n",
      "[55]\tvalid_0's auc: 0.986706\n",
      "[56]\tvalid_0's auc: 0.986801\n",
      "[57]\tvalid_0's auc: 0.986833\n",
      "[58]\tvalid_0's auc: 0.986864\n",
      "[59]\tvalid_0's auc: 0.987004\n",
      "[60]\tvalid_0's auc: 0.987081\n",
      "[61]\tvalid_0's auc: 0.987138\n",
      "[62]\tvalid_0's auc: 0.98721\n",
      "[63]\tvalid_0's auc: 0.987272\n",
      "[64]\tvalid_0's auc: 0.987292\n",
      "[65]\tvalid_0's auc: 0.987411\n",
      "[66]\tvalid_0's auc: 0.987434\n",
      "[67]\tvalid_0's auc: 0.987414\n",
      "[68]\tvalid_0's auc: 0.987435\n",
      "[69]\tvalid_0's auc: 0.987495\n",
      "[70]\tvalid_0's auc: 0.987534\n",
      "[71]\tvalid_0's auc: 0.987551\n",
      "[72]\tvalid_0's auc: 0.987601\n",
      "[73]\tvalid_0's auc: 0.987628\n",
      "[74]\tvalid_0's auc: 0.98764\n",
      "[75]\tvalid_0's auc: 0.987639\n",
      "[76]\tvalid_0's auc: 0.987697\n",
      "[77]\tvalid_0's auc: 0.987792\n",
      "[78]\tvalid_0's auc: 0.987812\n",
      "[79]\tvalid_0's auc: 0.987904\n",
      "[80]\tvalid_0's auc: 0.987958\n",
      "[81]\tvalid_0's auc: 0.987949\n",
      "[82]\tvalid_0's auc: 0.988019\n",
      "[83]\tvalid_0's auc: 0.988073\n",
      "[84]\tvalid_0's auc: 0.988109\n",
      "[85]\tvalid_0's auc: 0.98815\n",
      "[86]\tvalid_0's auc: 0.988177\n",
      "[87]\tvalid_0's auc: 0.988197\n",
      "[88]\tvalid_0's auc: 0.98821\n",
      "[89]\tvalid_0's auc: 0.988219\n",
      "[90]\tvalid_0's auc: 0.98826\n",
      "[91]\tvalid_0's auc: 0.988277\n",
      "[92]\tvalid_0's auc: 0.988321\n",
      "[93]\tvalid_0's auc: 0.988353\n",
      "[94]\tvalid_0's auc: 0.988439\n",
      "[95]\tvalid_0's auc: 0.988488\n",
      "[96]\tvalid_0's auc: 0.988507\n",
      "[97]\tvalid_0's auc: 0.988466\n",
      "[98]\tvalid_0's auc: 0.988541\n",
      "[99]\tvalid_0's auc: 0.988578\n",
      "[100]\tvalid_0's auc: 0.988617\n",
      "[101]\tvalid_0's auc: 0.988649\n",
      "[102]\tvalid_0's auc: 0.98866\n",
      "[103]\tvalid_0's auc: 0.988691\n",
      "[104]\tvalid_0's auc: 0.98875\n",
      "[105]\tvalid_0's auc: 0.988788\n",
      "[106]\tvalid_0's auc: 0.988808\n",
      "[107]\tvalid_0's auc: 0.988934\n",
      "[108]\tvalid_0's auc: 0.988969\n",
      "[109]\tvalid_0's auc: 0.989013\n",
      "[110]\tvalid_0's auc: 0.98899\n",
      "[111]\tvalid_0's auc: 0.989074\n",
      "[112]\tvalid_0's auc: 0.989113\n",
      "[113]\tvalid_0's auc: 0.989097\n",
      "[114]\tvalid_0's auc: 0.98914\n",
      "[115]\tvalid_0's auc: 0.989153\n",
      "[116]\tvalid_0's auc: 0.989181\n",
      "[117]\tvalid_0's auc: 0.989206\n",
      "[118]\tvalid_0's auc: 0.989225\n",
      "[119]\tvalid_0's auc: 0.98926\n",
      "[120]\tvalid_0's auc: 0.989281\n",
      "[121]\tvalid_0's auc: 0.989295\n",
      "[122]\tvalid_0's auc: 0.989316\n",
      "[123]\tvalid_0's auc: 0.989323\n",
      "[124]\tvalid_0's auc: 0.989297\n",
      "[125]\tvalid_0's auc: 0.989277\n",
      "[126]\tvalid_0's auc: 0.989308\n",
      "[127]\tvalid_0's auc: 0.989311\n",
      "[128]\tvalid_0's auc: 0.989357\n",
      "[129]\tvalid_0's auc: 0.989353\n",
      "[130]\tvalid_0's auc: 0.989361\n",
      "[131]\tvalid_0's auc: 0.989344\n",
      "[132]\tvalid_0's auc: 0.989373\n",
      "[133]\tvalid_0's auc: 0.989377\n",
      "[134]\tvalid_0's auc: 0.989389\n",
      "[135]\tvalid_0's auc: 0.989381\n",
      "[136]\tvalid_0's auc: 0.989422\n",
      "[137]\tvalid_0's auc: 0.989448\n",
      "[138]\tvalid_0's auc: 0.989408\n",
      "[139]\tvalid_0's auc: 0.989435\n",
      "[140]\tvalid_0's auc: 0.98945\n",
      "[141]\tvalid_0's auc: 0.989465\n",
      "[142]\tvalid_0's auc: 0.989492\n",
      "[143]\tvalid_0's auc: 0.9895\n",
      "[144]\tvalid_0's auc: 0.98951\n",
      "[145]\tvalid_0's auc: 0.989553\n",
      "[146]\tvalid_0's auc: 0.989577\n",
      "[147]\tvalid_0's auc: 0.989624\n",
      "[148]\tvalid_0's auc: 0.989634\n",
      "[149]\tvalid_0's auc: 0.989657\n",
      "[150]\tvalid_0's auc: 0.989667\n",
      "[151]\tvalid_0's auc: 0.989682\n",
      "[152]\tvalid_0's auc: 0.98969\n",
      "[153]\tvalid_0's auc: 0.98968\n",
      "[154]\tvalid_0's auc: 0.989676\n",
      "[155]\tvalid_0's auc: 0.989703\n",
      "[156]\tvalid_0's auc: 0.989687\n",
      "[157]\tvalid_0's auc: 0.989723\n",
      "[158]\tvalid_0's auc: 0.989731\n",
      "[159]\tvalid_0's auc: 0.989745\n",
      "[160]\tvalid_0's auc: 0.989748\n",
      "[161]\tvalid_0's auc: 0.989739\n",
      "[162]\tvalid_0's auc: 0.989745\n",
      "[163]\tvalid_0's auc: 0.989752\n",
      "[164]\tvalid_0's auc: 0.989747\n",
      "[165]\tvalid_0's auc: 0.989788\n",
      "[166]\tvalid_0's auc: 0.989793\n",
      "[167]\tvalid_0's auc: 0.989803\n",
      "[168]\tvalid_0's auc: 0.989826\n",
      "[169]\tvalid_0's auc: 0.989859\n",
      "[170]\tvalid_0's auc: 0.989863\n",
      "[171]\tvalid_0's auc: 0.989861\n",
      "[172]\tvalid_0's auc: 0.989887\n",
      "[173]\tvalid_0's auc: 0.989904\n",
      "[174]\tvalid_0's auc: 0.989872\n",
      "[175]\tvalid_0's auc: 0.989877\n",
      "[176]\tvalid_0's auc: 0.989876\n",
      "[177]\tvalid_0's auc: 0.989871\n",
      "[178]\tvalid_0's auc: 0.989884\n",
      "[179]\tvalid_0's auc: 0.989897\n",
      "[180]\tvalid_0's auc: 0.989873\n",
      "[181]\tvalid_0's auc: 0.989884\n",
      "[182]\tvalid_0's auc: 0.989888\n",
      "[183]\tvalid_0's auc: 0.989899\n",
      "[184]\tvalid_0's auc: 0.989864\n",
      "[185]\tvalid_0's auc: 0.989874\n",
      "[186]\tvalid_0's auc: 0.989891\n",
      "[187]\tvalid_0's auc: 0.989902\n",
      "[188]\tvalid_0's auc: 0.989911\n",
      "[189]\tvalid_0's auc: 0.989899\n",
      "[190]\tvalid_0's auc: 0.989886\n",
      "[191]\tvalid_0's auc: 0.989868\n",
      "[192]\tvalid_0's auc: 0.989901\n",
      "[193]\tvalid_0's auc: 0.989885\n",
      "[194]\tvalid_0's auc: 0.989904\n",
      "[195]\tvalid_0's auc: 0.9899\n",
      "[196]\tvalid_0's auc: 0.989896\n",
      "[197]\tvalid_0's auc: 0.989867\n",
      "[198]\tvalid_0's auc: 0.989858\n",
      "[199]\tvalid_0's auc: 0.989847\n",
      "[200]\tvalid_0's auc: 0.98987\n",
      "[201]\tvalid_0's auc: 0.989876\n",
      "[202]\tvalid_0's auc: 0.989907\n",
      "[203]\tvalid_0's auc: 0.989895\n",
      "[204]\tvalid_0's auc: 0.989895\n",
      "[205]\tvalid_0's auc: 0.989885\n",
      "[206]\tvalid_0's auc: 0.989893\n",
      "[207]\tvalid_0's auc: 0.989909\n",
      "[208]\tvalid_0's auc: 0.989887\n",
      "[209]\tvalid_0's auc: 0.989901\n",
      "[210]\tvalid_0's auc: 0.989912\n",
      "[211]\tvalid_0's auc: 0.989925\n",
      "[212]\tvalid_0's auc: 0.989902\n",
      "[213]\tvalid_0's auc: 0.98991\n",
      "[214]\tvalid_0's auc: 0.989924\n",
      "[215]\tvalid_0's auc: 0.989921\n",
      "[216]\tvalid_0's auc: 0.989924\n",
      "[217]\tvalid_0's auc: 0.989918\n",
      "[218]\tvalid_0's auc: 0.989881\n",
      "[219]\tvalid_0's auc: 0.989893\n",
      "[220]\tvalid_0's auc: 0.989889\n",
      "[221]\tvalid_0's auc: 0.989897\n",
      "[222]\tvalid_0's auc: 0.9899\n",
      "[223]\tvalid_0's auc: 0.989924\n",
      "[224]\tvalid_0's auc: 0.989946\n",
      "[225]\tvalid_0's auc: 0.989947\n",
      "[226]\tvalid_0's auc: 0.989958\n",
      "[227]\tvalid_0's auc: 0.989942\n",
      "[228]\tvalid_0's auc: 0.989934\n",
      "[229]\tvalid_0's auc: 0.989946\n",
      "[230]\tvalid_0's auc: 0.989937\n",
      "[231]\tvalid_0's auc: 0.989924\n",
      "[232]\tvalid_0's auc: 0.989916\n",
      "[233]\tvalid_0's auc: 0.989936\n",
      "[234]\tvalid_0's auc: 0.989964\n",
      "[235]\tvalid_0's auc: 0.989988\n",
      "[236]\tvalid_0's auc: 0.989992\n",
      "[237]\tvalid_0's auc: 0.990003\n",
      "[238]\tvalid_0's auc: 0.989995\n",
      "[239]\tvalid_0's auc: 0.98997\n",
      "[240]\tvalid_0's auc: 0.989969\n",
      "[241]\tvalid_0's auc: 0.989969\n",
      "[242]\tvalid_0's auc: 0.98999\n",
      "[243]\tvalid_0's auc: 0.990001\n",
      "[244]\tvalid_0's auc: 0.99\n",
      "[245]\tvalid_0's auc: 0.989999\n",
      "[246]\tvalid_0's auc: 0.98998\n",
      "[247]\tvalid_0's auc: 0.989989\n",
      "[248]\tvalid_0's auc: 0.989998\n",
      "[249]\tvalid_0's auc: 0.989997\n",
      "[250]\tvalid_0's auc: 0.989992\n",
      "[251]\tvalid_0's auc: 0.98999\n",
      "[252]\tvalid_0's auc: 0.989965\n",
      "[253]\tvalid_0's auc: 0.989966\n",
      "[254]\tvalid_0's auc: 0.989955\n",
      "[255]\tvalid_0's auc: 0.989947\n",
      "[256]\tvalid_0's auc: 0.989939\n",
      "[257]\tvalid_0's auc: 0.989936\n"
     ]
    },
    {
     "name": "stdout",
     "output_type": "stream",
     "text": [
      "[258]\tvalid_0's auc: 0.989934\n",
      "[259]\tvalid_0's auc: 0.989939\n",
      "[260]\tvalid_0's auc: 0.989927\n",
      "[261]\tvalid_0's auc: 0.989941\n",
      "[262]\tvalid_0's auc: 0.989939\n",
      "[263]\tvalid_0's auc: 0.98995\n",
      "[264]\tvalid_0's auc: 0.989945\n",
      "[265]\tvalid_0's auc: 0.989901\n",
      "[266]\tvalid_0's auc: 0.989925\n",
      "[267]\tvalid_0's auc: 0.989921\n",
      "[268]\tvalid_0's auc: 0.989902\n",
      "[269]\tvalid_0's auc: 0.989907\n",
      "[270]\tvalid_0's auc: 0.989906\n",
      "[271]\tvalid_0's auc: 0.989928\n",
      "[272]\tvalid_0's auc: 0.989898\n",
      "[273]\tvalid_0's auc: 0.9899\n",
      "[274]\tvalid_0's auc: 0.989889\n",
      "[275]\tvalid_0's auc: 0.989882\n",
      "[276]\tvalid_0's auc: 0.989868\n",
      "[277]\tvalid_0's auc: 0.989898\n",
      "[278]\tvalid_0's auc: 0.989905\n",
      "[279]\tvalid_0's auc: 0.989852\n",
      "[280]\tvalid_0's auc: 0.989835\n",
      "[281]\tvalid_0's auc: 0.989842\n",
      "[282]\tvalid_0's auc: 0.989833\n",
      "[283]\tvalid_0's auc: 0.989838\n",
      "[284]\tvalid_0's auc: 0.989853\n",
      "[285]\tvalid_0's auc: 0.989852\n",
      "[286]\tvalid_0's auc: 0.989828\n",
      "[287]\tvalid_0's auc: 0.989841\n",
      "[288]\tvalid_0's auc: 0.989842\n",
      "[289]\tvalid_0's auc: 0.989835\n",
      "[290]\tvalid_0's auc: 0.98984\n",
      "[291]\tvalid_0's auc: 0.989818\n",
      "[292]\tvalid_0's auc: 0.989831\n",
      "[293]\tvalid_0's auc: 0.989829\n",
      "[294]\tvalid_0's auc: 0.989829\n",
      "[295]\tvalid_0's auc: 0.989827\n",
      "[296]\tvalid_0's auc: 0.989843\n",
      "[297]\tvalid_0's auc: 0.989837\n",
      "[298]\tvalid_0's auc: 0.989838\n",
      "[299]\tvalid_0's auc: 0.989856\n",
      "[300]\tvalid_0's auc: 0.989863\n",
      "[301]\tvalid_0's auc: 0.98988\n",
      "[302]\tvalid_0's auc: 0.989866\n",
      "[303]\tvalid_0's auc: 0.989873\n",
      "[304]\tvalid_0's auc: 0.989876\n",
      "[305]\tvalid_0's auc: 0.989856\n",
      "[306]\tvalid_0's auc: 0.989859\n",
      "[307]\tvalid_0's auc: 0.989886\n",
      "[308]\tvalid_0's auc: 0.989912\n",
      "[309]\tvalid_0's auc: 0.989925\n",
      "[310]\tvalid_0's auc: 0.989932\n",
      "[311]\tvalid_0's auc: 0.989924\n",
      "[312]\tvalid_0's auc: 0.989913\n",
      "[313]\tvalid_0's auc: 0.989906\n",
      "[314]\tvalid_0's auc: 0.989889\n",
      "[315]\tvalid_0's auc: 0.989852\n",
      "[316]\tvalid_0's auc: 0.989829\n",
      "[317]\tvalid_0's auc: 0.989829\n",
      "[318]\tvalid_0's auc: 0.989836\n",
      "[319]\tvalid_0's auc: 0.989841\n",
      "[320]\tvalid_0's auc: 0.989824\n",
      "[321]\tvalid_0's auc: 0.989828\n",
      "[322]\tvalid_0's auc: 0.989838\n",
      "[323]\tvalid_0's auc: 0.989832\n",
      "[324]\tvalid_0's auc: 0.989798\n",
      "[325]\tvalid_0's auc: 0.989799\n",
      "[326]\tvalid_0's auc: 0.989793\n",
      "[327]\tvalid_0's auc: 0.989796\n",
      "[328]\tvalid_0's auc: 0.989815\n",
      "[329]\tvalid_0's auc: 0.989823\n",
      "[330]\tvalid_0's auc: 0.98982\n",
      "[331]\tvalid_0's auc: 0.989822\n",
      "[332]\tvalid_0's auc: 0.989793\n",
      "[333]\tvalid_0's auc: 0.989807\n",
      "[334]\tvalid_0's auc: 0.98981\n",
      "[335]\tvalid_0's auc: 0.989802\n",
      "[336]\tvalid_0's auc: 0.989841\n",
      "[337]\tvalid_0's auc: 0.989831\n",
      "Early stopping, best iteration is:\n",
      "[237]\tvalid_0's auc: 0.990003\n"
     ]
    }
   ],
   "source": [
    "#\n",
    "# Prepare the data\n",
    "#\n",
    "\n",
    "data = pd.read_csv('final.csv')\n",
    "\n",
    "y = data.target.values\n",
    "data.drop(['target', 'Unnamed: 0',  'cl_open'], inplace=True, axis=1)\n",
    "\n",
    "x = data.values\n",
    "\n",
    "#\n",
    "# Create training and validation sets\n",
    "#\n",
    "x_train, x_test, y_train, y_test = train_test_split(x, y, test_size=0.2, random_state=42, stratify=y)\n",
    "\n",
    "#\n",
    "# Create the LightGBM data containers\n",
    "#\n",
    "train_data = lightgbm.Dataset(x_train, label=y_train)\n",
    "\n",
    "test_data = lightgbm.Dataset(x_test, label=y_test)\n",
    "\n",
    "#\n",
    "# Train the model\n",
    "#\n",
    "\n",
    "parameters = {\n",
    "    'application': 'binary',\n",
    "    'objective': 'binary',\n",
    "    'metric': 'auc',\n",
    "    'is_unbalance': 'true',\n",
    "    'boosting': 'gbdt',\n",
    "    'num_leaves': 31,\n",
    "    'feature_fraction': 0.5,\n",
    "    'bagging_fraction': 0.5,\n",
    "    'bagging_freq': 20,\n",
    "    'learning_rate': 0.05,\n",
    "    'verbose': 0\n",
    "}\n",
    "\n",
    "model = lightgbm.train(parameters,\n",
    "                       train_data,\n",
    "                       valid_sets=test_data,\n",
    "                       num_boost_round=5000,\n",
    "                       early_stopping_rounds=100)\n",
    "\n",
    "with open(\"model.json\", 'w') as f:\n",
    "    json.dump(model.dump_model(), f)\n",
    "#\n",
    "# Create a submission\n",
    "#\n",
    "\n",
    "\n",
    "y_res_train = model.predict(x_train)\n",
    "y_res_test = model.predict(x_test)\n",
    "\n",
    "res_test = pd.DataFrame({'res_test':y_res_test, 'y_test':y_test})\n",
    "res_train = pd.DataFrame({'res_train':y_res_train,'y_train':y_train})\n",
    "\n",
    "res_test.to_csv('test.csv')\n",
    "res_train.to_csv('train.csv')"
   ]
  },
  {
   "cell_type": "code",
   "execution_count": 182,
   "id": "aggregate-queens",
   "metadata": {},
   "outputs": [],
   "source": [
    "import shap\n",
    "explainer = shap.Explainer(model)\n",
    "shap_values = explainer(x)\n",
    "#shap.plots.beeswarm(shap_values)"
   ]
  },
  {
   "cell_type": "code",
   "execution_count": 183,
   "id": "brazilian-wisconsin",
   "metadata": {},
   "outputs": [
    {
     "data": {
      "text/plain": [
       ".values =\n",
       "array([[[-1.79636748e-02,  1.79636748e-02],\n",
       "        [ 1.93590260e-02, -1.93590260e-02],\n",
       "        [ 5.55398617e-02, -5.55398617e-02],\n",
       "        ...,\n",
       "        [ 5.63398107e-05, -5.63398107e-05],\n",
       "        [ 1.31367558e-02, -1.31367558e-02],\n",
       "        [-1.15822890e-02,  1.15822890e-02]],\n",
       "\n",
       "       [[-1.80512889e-02,  1.80512889e-02],\n",
       "        [ 1.45941646e-02, -1.45941646e-02],\n",
       "        [ 5.52420247e-02, -5.52420247e-02],\n",
       "        ...,\n",
       "        [ 5.63398107e-05, -5.63398107e-05],\n",
       "        [ 1.31367558e-02, -1.31367558e-02],\n",
       "        [-7.37388881e-03,  7.37388881e-03]],\n",
       "\n",
       "       [[ 8.26518193e-02, -8.26518193e-02],\n",
       "        [ 1.11271923e-02, -1.11271923e-02],\n",
       "        [-1.76636324e-02,  1.76636324e-02],\n",
       "        ...,\n",
       "        [ 5.63398107e-05, -5.63398107e-05],\n",
       "        [ 1.31367558e-02, -1.31367558e-02],\n",
       "        [-1.16377501e-02,  1.16377501e-02]],\n",
       "\n",
       "       ...,\n",
       "\n",
       "       [[-1.47023273e-02,  1.47023273e-02],\n",
       "        [-2.84871291e-02,  2.84871291e-02],\n",
       "        [ 2.42463948e-02, -2.42463948e-02],\n",
       "        ...,\n",
       "        [ 3.73753402e-05, -3.73753402e-05],\n",
       "        [ 2.60216870e-02, -2.60216870e-02],\n",
       "        [-8.60780429e-03,  8.60780429e-03]],\n",
       "\n",
       "       [[ 3.05910089e-02, -3.05910089e-02],\n",
       "        [-1.54930205e-02,  1.54930205e-02],\n",
       "        [-1.60757117e-02,  1.60757117e-02],\n",
       "        ...,\n",
       "        [ 5.63398107e-05, -5.63398107e-05],\n",
       "        [ 6.51105499e-03, -6.51105499e-03],\n",
       "        [-8.39292490e-03,  8.39292490e-03]],\n",
       "\n",
       "       [[-1.15012682e-02,  1.15012682e-02],\n",
       "        [-7.76307807e-03,  7.76307807e-03],\n",
       "        [ 4.42567575e-02, -4.42567575e-02],\n",
       "        ...,\n",
       "        [ 3.72664680e-05, -3.72664680e-05],\n",
       "        [ 1.29934774e-02, -1.29934774e-02],\n",
       "        [-1.10385964e-02,  1.10385964e-02]]])\n",
       "\n",
       ".base_values =\n",
       "array([[ 8.41963507, -8.41963507],\n",
       "       [ 8.41963507, -8.41963507],\n",
       "       [ 8.41963507, -8.41963507],\n",
       "       ...,\n",
       "       [ 8.41963507, -8.41963507],\n",
       "       [ 8.41963507, -8.41963507],\n",
       "       [ 8.41963507, -8.41963507]])\n",
       "\n",
       ".data =\n",
       "array([[ 0.,  0.,  0., ...,  0.,  1.,  0.],\n",
       "       [ 0.,  0.,  0., ...,  0.,  1.,  0.],\n",
       "       [ 3.,  4.,  8., ...,  0.,  1.,  0.],\n",
       "       ...,\n",
       "       [ 2.,  6.,  9., ...,  0.,  1.,  0.],\n",
       "       [ 3.,  8., 17., ...,  0.,  1.,  0.],\n",
       "       [ 1.,  3.,  7., ...,  0.,  1.,  0.]])"
      ]
     },
     "execution_count": 183,
     "metadata": {},
     "output_type": "execute_result"
    }
   ],
   "source": [
    "shap_values"
   ]
  },
  {
   "cell_type": "code",
   "execution_count": 186,
   "id": "hybrid-graduate",
   "metadata": {},
   "outputs": [],
   "source": [
    "df_train = pd.read_csv('train.csv')\n",
    "df_test = pd.read_csv('test.csv')"
   ]
  },
  {
   "cell_type": "code",
   "execution_count": 188,
   "id": "returning-affect",
   "metadata": {},
   "outputs": [
    {
     "name": "stdout",
     "output_type": "stream",
     "text": [
      "f1 for train =  0.9806880907487991\n",
      "f1 for test =  0.9767262912577138\n"
     ]
    }
   ],
   "source": [
    "from sklearn.metrics import f1_score\n",
    "\n",
    "y_true_train = df_train['y_train']\n",
    "y_res_train = df_train['res_train']\n",
    "\n",
    "y_true_test = df_test['y_test']\n",
    "y_res_test = df_test['res_test']\n",
    "\n",
    "def ff(ll):\n",
    "    ll_1 = ll>=0.5\n",
    "    ll_1 = ll_1.astype(int)\n",
    "    return ll_1\n",
    "    \n",
    "    \n",
    "y_true_train1 = ff(y_true_train) \n",
    "y_res_train1= ff(y_res_train) \n",
    "y_true_test1= ff(y_true_test) \n",
    "y_res_test1= ff(y_res_test) \n",
    "\n",
    "print('f1 for train = ', f1_score(y_true_train1, y_res_train1, average='weighted'))\n",
    "print('f1 for test = ', f1_score(y_true_test1, y_res_test1, average='weighted'))\n"
   ]
  },
  {
   "cell_type": "code",
   "execution_count": null,
   "id": "independent-dividend",
   "metadata": {},
   "outputs": [],
   "source": []
  }
 ],
 "metadata": {
  "kernelspec": {
   "display_name": "Python 3",
   "language": "python",
   "name": "python3"
  },
  "language_info": {
   "codemirror_mode": {
    "name": "ipython",
    "version": 3
   },
   "file_extension": ".py",
   "mimetype": "text/x-python",
   "name": "python",
   "nbconvert_exporter": "python",
   "pygments_lexer": "ipython3",
   "version": "3.6.8"
  }
 },
 "nbformat": 4,
 "nbformat_minor": 5
}
